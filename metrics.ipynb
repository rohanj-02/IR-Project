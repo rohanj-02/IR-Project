{
 "cells": [
  {
   "cell_type": "code",
   "execution_count": 97,
   "metadata": {},
   "outputs": [],
   "source": [
    "import matplotlib\n",
    "import networkx as nx"
   ]
  },
  {
   "cell_type": "code",
   "execution_count": 98,
   "metadata": {},
   "outputs": [],
   "source": [
    "import pickle\n",
    "with open('data/graph.pkl','rb') as f:\n",
    "    G=pickle.load(f)    "
   ]
  },
  {
   "cell_type": "code",
   "execution_count": 99,
   "metadata": {},
   "outputs": [],
   "source": [
    "iiitd_profs=[i for i in list(G.nodes) if G.nodes[i]['authorCategory']=='iiitd']\n",
    "G_=G.subgraph(iiitd_profs)"
   ]
  },
  {
   "cell_type": "markdown",
   "metadata": {},
   "source": [
    "# Group Metrics"
   ]
  },
  {
   "cell_type": "code",
   "execution_count": 100,
   "metadata": {},
   "outputs": [
    {
     "name": "stdout",
     "output_type": "stream",
     "text": [
      "Number of Nodes in the Heterogeneous Graph 5855\n",
      "Number of Edges in the Heterogeneous Graph 22651\n",
      "Number of Nodes in the Homogeneous Graph 143\n",
      "Number of Edges in the Homogeneous Graph 571\n"
     ]
    }
   ],
   "source": [
    "print(\"Number of Nodes in the Heterogeneous Graph\",G.number_of_nodes())\n",
    "print(\"Number of Edges in the Heterogeneous Graph\",G.number_of_edges())\n",
    "print(\"Number of Nodes in the Homogeneous Graph\",G_.number_of_nodes())\n",
    "print(\"Number of Edges in the Homogeneous Graph\",G_.number_of_edges())\n"
   ]
  },
  {
   "cell_type": "markdown",
   "metadata": {},
   "source": [
    "### Density"
   ]
  },
  {
   "cell_type": "code",
   "execution_count": 172,
   "metadata": {},
   "outputs": [
    {
     "name": "stdout",
     "output_type": "stream",
     "text": [
      "Density of Homogenous Graph 0.05623953511277455\n",
      "Fraction of Hetergeneous Graph 0.001321714815710615\n"
     ]
    }
   ],
   "source": [
    "print(\"Density of Homogenous Graph\",nx.density(G_))\n",
    "print(\"Fraction of Hetergeneous Graph\",nx.density(G))"
   ]
  },
  {
   "cell_type": "markdown",
   "metadata": {},
   "source": [
    "# Single Node Metrics"
   ]
  },
  {
   "cell_type": "markdown",
   "metadata": {},
   "source": [
    "### Degree Centrality"
   ]
  },
  {
   "cell_type": "markdown",
   "metadata": {},
   "source": [
    "Homogeneous"
   ]
  },
  {
   "cell_type": "code",
   "execution_count": 101,
   "metadata": {},
   "outputs": [
    {
     "data": {
      "text/plain": [
       "[('anubha gupta', 48),\n",
       " ('shivam sharma', 37),\n",
       " ('amarjeet singh', 31),\n",
       " ('anuradha sharma', 29),\n",
       " ('vibhor kumar', 28),\n",
       " ('gaurav gupta', 27),\n",
       " ('angshul majumdar', 27),\n",
       " ('tanmoy chakraborty', 26),\n",
       " ('rajiv ratn shah', 26),\n",
       " ('shikha singh', 24)]"
      ]
     },
     "execution_count": 101,
     "metadata": {},
     "output_type": "execute_result"
    }
   ],
   "source": [
    "deg_hom=list(G_.degree)\n",
    "deg_hom.sort(key=lambda x: x[1],reverse=True)\n",
    "deg_hom[:10]"
   ]
  },
  {
   "cell_type": "markdown",
   "metadata": {},
   "source": [
    "Heterogeneous"
   ]
  },
  {
   "cell_type": "code",
   "execution_count": 102,
   "metadata": {},
   "outputs": [
    {
     "data": {
      "text/plain": [
       "[('gaurav gupta', 456),\n",
       " ('ponnurangam kumaraguru', 342),\n",
       " ('anubha gupta', 334),\n",
       " ('kuldeep yadav', 320),\n",
       " ('mukesh mohania', 295),\n",
       " ('rajiv ratn shah', 287),\n",
       " ('tanmoy chakraborty', 264),\n",
       " ('amarjeet singh', 244),\n",
       " ('vibhor kumar', 225),\n",
       " ('gajendra ps raghava', 207)]"
      ]
     },
     "execution_count": 102,
     "metadata": {},
     "output_type": "execute_result"
    }
   ],
   "source": [
    "deg_het=list(G.degree)\n",
    "deg_het=[i for i in deg_het if G.nodes[i[0]]['authorCategory']=='iiitd']\n",
    "deg_het.sort(key=lambda x: x[1],reverse=True)\n",
    "deg_het[:10]"
   ]
  },
  {
   "cell_type": "markdown",
   "metadata": {},
   "source": [
    "Helper Function"
   ]
  },
  {
   "cell_type": "code",
   "execution_count": 154,
   "metadata": {},
   "outputs": [],
   "source": [
    "def process_dic(dic,reverse=True):\n",
    "    l=list(dic.items())\n",
    "    l=[i for i in l if G.nodes[i[0]]['authorCategory']=='iiitd']\n",
    "    l.sort(key=lambda x:x[1],reverse=reverse)\n",
    "    return l[:10]\n",
    "    "
   ]
  },
  {
   "cell_type": "markdown",
   "metadata": {},
   "source": [
    "### Closeness Centrality"
   ]
  },
  {
   "cell_type": "markdown",
   "metadata": {},
   "source": [
    "Homogenous"
   ]
  },
  {
   "cell_type": "code",
   "execution_count": 155,
   "metadata": {},
   "outputs": [
    {
     "data": {
      "text/plain": [
       "[('anubha gupta', 0.5604588228058306),\n",
       " ('shivam sharma', 0.5217279285468911),\n",
       " ('amarjeet singh', 0.5052955528446268),\n",
       " ('anuradha sharma', 0.4993971611771798),\n",
       " ('gaurav gupta', 0.4917435648372997),\n",
       " ('vibhor kumar', 0.4861555697823303),\n",
       " ('tanmoy chakraborty', 0.484321020462397),\n",
       " ('shikha singh', 0.4806931476499446),\n",
       " ('angshul majumdar', 0.47889951650199697),\n",
       " ('rajiv ratn shah', 0.4771192209016178)]"
      ]
     },
     "execution_count": 155,
     "metadata": {},
     "output_type": "execute_result"
    }
   ],
   "source": [
    "process_dic(nx.closeness_centrality(G_))\n"
   ]
  },
  {
   "cell_type": "markdown",
   "metadata": {},
   "source": [
    "Heteterogeneous"
   ]
  },
  {
   "cell_type": "code",
   "execution_count": 158,
   "metadata": {},
   "outputs": [
    {
     "data": {
      "text/plain": [
       "[('anubha gupta', 0.4089525661446672),\n",
       " ('amarjeet singh', 0.3930005156922156),\n",
       " ('shivam sharma', 0.3904376609687899),\n",
       " ('gaurav gupta', 0.3865263308833946),\n",
       " ('vibhor kumar', 0.38424526667045045),\n",
       " ('anuradha sharma', 0.3804842100061816),\n",
       " ('ponnurangam kumaraguru', 0.3741705937062442),\n",
       " ('shikha singh', 0.3729916817031597),\n",
       " ('tanmoy chakraborty', 0.3720060587762195),\n",
       " ('richa gupta', 0.37147545535477294)]"
      ]
     },
     "execution_count": 158,
     "metadata": {},
     "output_type": "execute_result"
    }
   ],
   "source": [
    "process_dic(nx.closeness_centrality(G))"
   ]
  },
  {
   "cell_type": "markdown",
   "metadata": {},
   "source": [
    "### Betweenness Centrality"
   ]
  },
  {
   "cell_type": "markdown",
   "metadata": {},
   "source": [
    "Homogenous"
   ]
  },
  {
   "cell_type": "code",
   "execution_count": 157,
   "metadata": {},
   "outputs": [
    {
     "data": {
      "text/plain": [
       "[('anubha gupta', 0.15620124342077832),\n",
       " ('shivam sharma', 0.093298318137528),\n",
       " ('amarjeet singh', 0.07688163964431413),\n",
       " ('angshul majumdar', 0.06318091523409841),\n",
       " ('tanmoy chakraborty', 0.055440847129515844),\n",
       " ('anuradha sharma', 0.054500654584442546),\n",
       " ('vibhor kumar', 0.054199006196587386),\n",
       " ('ponnurangam kumaraguru', 0.05283998859048463),\n",
       " ('rajiv ratn shah', 0.05258994764711855),\n",
       " ('shikha singh', 0.04857678299767199)]"
      ]
     },
     "execution_count": 157,
     "metadata": {},
     "output_type": "execute_result"
    }
   ],
   "source": [
    "process_dic(nx.betweenness_centrality(G_))"
   ]
  },
  {
   "cell_type": "markdown",
   "metadata": {},
   "source": [
    "Heterogenous"
   ]
  },
  {
   "cell_type": "code",
   "execution_count": 160,
   "metadata": {},
   "outputs": [
    {
     "data": {
      "text/plain": [
       "[('gaurav gupta', 0.10637728553950754),\n",
       " ('anubha gupta', 0.09342190442372222),\n",
       " ('ponnurangam kumaraguru', 0.07297691974455985),\n",
       " ('kuldeep yadav', 0.06619059924142019),\n",
       " ('amarjeet singh', 0.0652469542510359),\n",
       " ('mukesh mohania', 0.059150972369703445),\n",
       " ('vibhor kumar', 0.056375482528198094),\n",
       " ('tanmoy chakraborty', 0.054986897441192076),\n",
       " ('n. arul murugan', 0.04969503717265732),\n",
       " ('rajiv ratn shah', 0.04952387929171319)]"
      ]
     },
     "execution_count": 160,
     "metadata": {},
     "output_type": "execute_result"
    }
   ],
   "source": [
    "process_dic(nx.betweenness_centrality(G))"
   ]
  },
  {
   "cell_type": "markdown",
   "metadata": {},
   "source": [
    "### Clustering coeffient"
   ]
  },
  {
   "cell_type": "markdown",
   "metadata": {},
   "source": [
    "Homogenous"
   ]
  },
  {
   "cell_type": "code",
   "execution_count": 169,
   "metadata": {},
   "outputs": [
    {
     "name": "stdout",
     "output_type": "stream",
     "text": [
      "Average Clustering: 0.3763538130330994\n"
     ]
    },
    {
     "data": {
      "text/plain": [
       "[('sarthak bhagat', 1.0),\n",
       " ('sneihil gopal', 1.0),\n",
       " ('pandarasamy arjunan', 1.0),\n",
       " ('anupriya tuli', 1.0),\n",
       " ('hitkul', 1.0),\n",
       " ('mohd hamza naim shaikh', 1.0),\n",
       " ('divya sitani', 1.0),\n",
       " ('shagun kapur', 1.0),\n",
       " ('ankita likhyani', 1.0),\n",
       " ('dhriti khanna', 1.0)]"
      ]
     },
     "execution_count": 169,
     "metadata": {},
     "output_type": "execute_result"
    }
   ],
   "source": [
    "print(\"Average Clustering:\", nx.average_clustering(G_))\n",
    "process_dic(nx.clustering(G_))"
   ]
  },
  {
   "cell_type": "markdown",
   "metadata": {},
   "source": [
    "Heterogenous"
   ]
  },
  {
   "cell_type": "code",
   "execution_count": 170,
   "metadata": {},
   "outputs": [
    {
     "name": "stdout",
     "output_type": "stream",
     "text": [
      "Average Clustering: 0.8115983224528138\n"
     ]
    },
    {
     "data": {
      "text/plain": [
       "[('bushra ansari', 1.0),\n",
       " ('sneihil gopal', 1.0),\n",
       " ('megha gaur', 0.8333333333333334),\n",
       " ('payel mukherjee', 0.5333333333333333),\n",
       " ('aditya chetan', 0.5277777777777778),\n",
       " ('harshit singh chhabra', 0.5),\n",
       " ('neeraj pandey', 0.4888888888888889),\n",
       " ('akanksha farswan', 0.4666666666666667),\n",
       " ('shagun kapur', 0.4642857142857143),\n",
       " ('hitkul', 0.4642857142857143)]"
      ]
     },
     "execution_count": 170,
     "metadata": {},
     "output_type": "execute_result"
    }
   ],
   "source": [
    "print(\"Average Clustering:\", nx.average_clustering(G))\n",
    "process_dic(nx.clustering(G))"
   ]
  }
 ],
 "metadata": {
  "interpreter": {
   "hash": "304bb4c30f835182c17e056eb6bbaa5d52a562a3833e71dfcf072abe29174232"
  },
  "kernelspec": {
   "display_name": "Python 3.9.9 ('venv': venv)",
   "language": "python",
   "name": "python3"
  },
  "language_info": {
   "codemirror_mode": {
    "name": "ipython",
    "version": 3
   },
   "file_extension": ".py",
   "mimetype": "text/x-python",
   "name": "python",
   "nbconvert_exporter": "python",
   "pygments_lexer": "ipython3",
   "version": "3.9.9"
  },
  "orig_nbformat": 4
 },
 "nbformat": 4,
 "nbformat_minor": 2
}
